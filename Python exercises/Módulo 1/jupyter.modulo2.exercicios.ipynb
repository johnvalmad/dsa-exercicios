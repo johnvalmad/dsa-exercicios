{
 "cells": [
  {
   "cell_type": "code",
   "execution_count": 12,
   "metadata": {},
   "outputs": [
    {
     "name": "stdout",
     "output_type": "stream",
     "text": [
      "[1, 2, 3, 4, 5, 6, 7, 8, 9, 10]\n"
     ]
    }
   ],
   "source": [
    "# Exercício 1 - Imprima na tela os números de 1 a 10. Use uma lista para armazenar os números.\r\n",
    "list_1 = [1,2,3,4,5,6,7,8,9,10]\r\n",
    "print(list_1)\r\n"
   ]
  },
  {
   "cell_type": "code",
   "execution_count": 13,
   "metadata": {},
   "outputs": [
    {
     "name": "stdout",
     "output_type": "stream",
     "text": [
      "['Arroz', 'Macarrão', 'Uva', 'Ameixa', 'Carne']\n"
     ]
    }
   ],
   "source": [
    "# Exercício 2 - Crie uma lista de 5 objetos e imprima na tela\r\n",
    "list_2 = ['Arroz', 'Macarrão', 'Uva', 'Ameixa', 'Carne']\r\n",
    "print(list_2)\r\n"
   ]
  },
  {
   "cell_type": "code",
   "execution_count": 14,
   "metadata": {},
   "outputs": [
    {
     "name": "stdout",
     "output_type": "stream",
     "text": [
      "cadilaque, porsche\n"
     ]
    }
   ],
   "source": [
    "# Exercício 3 - Crie duas strings e concatene as duas em uma terceira string\r\n",
    "car_1 = ('cadilaque, ')\r\n",
    "car_2 = ('porsche')\r\n",
    "cars = car_1 + car_2 \r\n",
    "print(cars)"
   ]
  },
  {
   "cell_type": "code",
   "execution_count": 15,
   "metadata": {},
   "outputs": [
    {
     "name": "stdout",
     "output_type": "stream",
     "text": [
      "3\n"
     ]
    }
   ],
   "source": [
    "# Exercício 4 - Crie uma tupla com os seguintes elementos: 1, 2, 2, 3, 4, 4, 4, 5 e depois utilize a função count do \r\n",
    "# objeto tupla para verificar quantas vezes o número 4 aparece na tupla\r\n",
    "tupla_1 = (1, 2, 3, 4, 4, 4, 5)\r\n",
    "print(tupla_1.count(4))"
   ]
  },
  {
   "cell_type": "code",
   "execution_count": 16,
   "metadata": {},
   "outputs": [
    {
     "name": "stdout",
     "output_type": "stream",
     "text": [
      "{}\n"
     ]
    }
   ],
   "source": [
    "# Exercício 5 - Crie um dicionário vazio e imprima na tela\r\n",
    "dic_1 = {}\r\n",
    "print(dic_1)"
   ]
  },
  {
   "cell_type": "code",
   "execution_count": 17,
   "metadata": {},
   "outputs": [
    {
     "name": "stdout",
     "output_type": "stream",
     "text": [
      "{'headset': 150, 'keyboard': 145, 'gamer chair': 80}\n"
     ]
    }
   ],
   "source": [
    "# Exercício 6 - Crie um dicionário com 3 chaves e 3 valores e imprima na tela\r\n",
    "dic_2 = {'headset': 150, 'keyboard': 145, 'gamer chair': 80}\r\n",
    "print(dic_2)"
   ]
  },
  {
   "cell_type": "code",
   "execution_count": 18,
   "metadata": {},
   "outputs": [
    {
     "name": "stdout",
     "output_type": "stream",
     "text": [
      "{'headset': 150, 'keyboard': 145, 'gamer chair': 80, 'mouse': 175}\n"
     ]
    }
   ],
   "source": [
    "# Exercício 7 - Adicione mais um elemento ao dicionário criado no exercício anterior e imprima na tela\r\n",
    "dic_2['mouse'] = 175\r\n",
    "print(dic_2)"
   ]
  },
  {
   "cell_type": "code",
   "execution_count": 19,
   "metadata": {},
   "outputs": [
    {
     "name": "stdout",
     "output_type": "stream",
     "text": [
      "{'Bathroom': 2, 'Bedroom': [3, 4], 'Kitchen': 1}\n"
     ]
    }
   ],
   "source": [
    "# Exercício 8 - Crie um dicionário com 3 chaves e 3 valores. Um dos valores deve ser uma lista de 2 elementos numéricos. \r\n",
    "# Imprima o dicionário na tela.\r\n",
    "dic_3 = {'Bathroom': 2, 'Bedroom' : [3, 4], 'Kitchen': 1}\r\n",
    "print(dic_3)"
   ]
  },
  {
   "cell_type": "code",
   "execution_count": 20,
   "metadata": {},
   "outputs": [
    {
     "name": "stdout",
     "output_type": "stream",
     "text": [
      "['Caneca de chá', ('Casa ', 'Cozinha'), {'Altura': '12cm', 'Profundidade': '8cm'}, 9.99]\n"
     ]
    }
   ],
   "source": [
    "# Exercício 9 - Crie uma lista de 4 elementos. O primeiro elemento deve ser uma string, \r\n",
    "# o segundo uma tupla de 2 elementos, o terceiro um dcionário com 2 chaves e 2 valores e \r\n",
    "# o quarto elemento um valor do tipo float.\r\n",
    "# Imprima a lista na tela.\r\n",
    "master_MUGlist = ['Caneca de chá', ('Casa ', 'Cozinha'), {'Altura': '12cm', 'Profundidade': '8cm'}, 9.99]\r\n",
    "print(master_MUGlist)"
   ]
  },
  {
   "cell_type": "code",
   "execution_count": 21,
   "metadata": {},
   "outputs": [
    {
     "name": "stdout",
     "output_type": "stream",
     "text": [
      "ientista de Dados\n"
     ]
    }
   ],
   "source": [
    "# Exercício 10 - Considere a string abaixo. Imprima na tela apenas os caracteres da posição 1 a 18.\r\n",
    "frase = 'Cientista de Dados é o profissional mais sexy do século XXI'\r\n",
    "print(frase[1:18])"
   ]
  }
 ],
 "metadata": {
  "interpreter": {
   "hash": "65950691a789b72485dfb18b4e877310b441e3b521418674980ea3cd7f7d6605"
  },
  "kernelspec": {
   "display_name": "Python 3.9.2 64-bit",
   "name": "python3"
  },
  "language_info": {
   "codemirror_mode": {
    "name": "ipython",
    "version": 3
   },
   "file_extension": ".py",
   "mimetype": "text/x-python",
   "name": "python",
   "nbconvert_exporter": "python",
   "pygments_lexer": "ipython3",
   "version": "3.9.2"
  },
  "orig_nbformat": 4
 },
 "nbformat": 4,
 "nbformat_minor": 2
}